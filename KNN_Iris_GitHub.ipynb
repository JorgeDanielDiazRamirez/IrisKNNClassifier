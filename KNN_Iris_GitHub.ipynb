{
  "nbformat": 4,
  "nbformat_minor": 0,
  "metadata": {
    "colab": {
      "name": "KNN_Iris_GitHub",
      "provenance": [],
      "collapsed_sections": [],
      "authorship_tag": "ABX9TyOC7vw4CXSaNOir5qHE1rM5",
      "include_colab_link": true
    },
    "kernelspec": {
      "name": "python3",
      "display_name": "Python 3"
    },
    "language_info": {
      "name": "python"
    }
  },
  "cells": [
    {
      "cell_type": "markdown",
      "metadata": {
        "id": "view-in-github",
        "colab_type": "text"
      },
      "source": [
        "<a href=\"https://colab.research.google.com/github/joddiazra2793/IrisKNNClassifier/blob/main/KNN_Iris_GitHub.ipynb\" target=\"_parent\"><img src=\"https://colab.research.google.com/assets/colab-badge.svg\" alt=\"Open In Colab\"/></a>"
      ]
    },
    {
      "cell_type": "markdown",
      "metadata": {
        "id": "mQg_UP486v5Y"
      },
      "source": [
        "#**Importación de librerías**\n",
        " \n"
      ]
    },
    {
      "cell_type": "code",
      "metadata": {
        "id": "xLYbDCu74a3T"
      },
      "source": [
        "import numpy as np\n",
        "import pandas as pd\n",
        "from scipy import stats\n",
        "import sklearn\n",
        "import sklearn.datasets\n",
        "import seaborn as sns\n",
        "import matplotlib.pyplot as plt"
      ],
      "execution_count": 427,
      "outputs": []
    },
    {
      "cell_type": "markdown",
      "metadata": {
        "id": "T7CtvpjY7FpJ"
      },
      "source": [
        "\n",
        "\n",
        "##**1.   Lectura del DataSet de un archivo de texto tabular (CSV)**\n",
        "\n",
        "##**Carga de Iris.csv mediante un DataFrame por url raw de GitHub**"
      ]
    },
    {
      "cell_type": "code",
      "metadata": {
        "colab": {
          "base_uri": "https://localhost:8080/"
        },
        "id": "MZ5bUbcq65cZ",
        "outputId": "496d0432-c42e-4500-c7a2-8c89b198b185"
      },
      "source": [
        "#The data set contains 3 classes of 50 instances each, where each class refers to a type of iris plant. \n",
        "#One class is linearly separable from the other 2; the latter are NOT linearly separable from each other.\n",
        "# 3 datasets o clases  (Setosa, Versicolour, and Virginica)\n",
        "\n",
        "url = \"https://raw.githubusercontent.com/uiuc-cse/data-fa14/gh-pages/data/iris.csv\"\n",
        "dfI= pd.read_csv(url)\n",
        "print(dfI.head(5))\n",
        "print(dfI.size) #RxC\n",
        "print(dfI.shape) #(Número de instancias, Columnas= Número de atributos o labels+Id o index)\n"
      ],
      "execution_count": 428,
      "outputs": [
        {
          "output_type": "stream",
          "text": [
            "   sepal_length  sepal_width  petal_length  petal_width species\n",
            "0           5.1          3.5           1.4          0.2  setosa\n",
            "1           4.9          3.0           1.4          0.2  setosa\n",
            "2           4.7          3.2           1.3          0.2  setosa\n",
            "3           4.6          3.1           1.5          0.2  setosa\n",
            "4           5.0          3.6           1.4          0.2  setosa\n",
            "750\n",
            "(150, 5)\n"
          ],
          "name": "stdout"
        }
      ]
    },
    {
      "cell_type": "code",
      "metadata": {
        "colab": {
          "base_uri": "https://localhost:8080/",
          "height": 374
        },
        "id": "74de0zLgqaSR",
        "outputId": "22f00c54-694d-4105-9667-5143d5f56b02"
      },
      "source": [
        "#Matriz de correlación\n",
        "dfI.corr()\n",
        "print(\"\\n\")\n",
        "corr = dfI.corr()\n",
        "fig, ax = plt.subplots(figsize=(5, 4))\n",
        "sns.heatmap(corr, annot=True, ax=ax)"
      ],
      "execution_count": 429,
      "outputs": [
        {
          "output_type": "stream",
          "text": [
            "\n",
            "\n"
          ],
          "name": "stdout"
        },
        {
          "output_type": "execute_result",
          "data": {
            "text/plain": [
              "<matplotlib.axes._subplots.AxesSubplot at 0x7f97d6439bd0>"
            ]
          },
          "metadata": {
            "tags": []
          },
          "execution_count": 429
        },
        {
          "output_type": "display_data",
          "data": {
            "image/png": "[encoded data removed]",
            "text/plain": [
              "<Figure size 360x288 with 2 Axes>"
            ]
          },
          "metadata": {
            "tags": [],
            "needs_background": "light"
          }
        }
      ]
    },
    {
      "cell_type": "code",
      "metadata": {
        "colab": {
          "base_uri": "https://localhost:8080/"
        },
        "id": "lBmtz1Sij7Ol",
        "outputId": "6a575686-b2f3-4896-c965-0a7dba5d6762"
      },
      "source": [
        "print(\"Descriptions \\n\")\n",
        "print(dfI.describe())\n",
        "print(\"\\n Class distributions \\n\")\n",
        "print(dfI.groupby(\"species\").size(),\"\\n\")\n",
        "print(dfI[\"species\"].value_counts())"
      ],
      "execution_count": 430,
      "outputs": [
        {
          "output_type": "stream",
          "text": [
            "Descriptions \n",
            "\n",
            "       sepal_length  sepal_width  petal_length  petal_width\n",
            "count    150.000000   150.000000    150.000000   150.000000\n",
            "mean       5.843333     3.054000      3.758667     1.198667\n",
            "std        0.828066     0.433594      1.764420     0.763161\n",
            "min        4.300000     2.000000      1.000000     0.100000\n",
            "25%        5.100000     2.800000      1.600000     0.300000\n",
            "50%        5.800000     3.000000      4.350000     1.300000\n",
            "75%        6.400000     3.300000      5.100000     1.800000\n",
            "max        7.900000     4.400000      6.900000     2.500000\n",
            "\n",
            " Class distributions \n",
            "\n",
            "species\n",
            "setosa        50\n",
            "versicolor    50\n",
            "virginica     50\n",
            "dtype: int64 \n",
            "\n",
            "versicolor    50\n",
            "setosa        50\n",
            "virginica     50\n",
            "Name: species, dtype: int64\n"
          ],
          "name": "stdout"
        }
      ]
    },
    {
      "cell_type": "markdown",
      "metadata": {
        "id": "DQIqZ0aTE6sI"
      },
      "source": [
        "**Instance Attribute** : An instance attribute is a Python variable belonging to only one object. It is only accessible in the scope of the object and it is defined inside the constructor function of a class. For example, __init__(self,..).\n",
        "\n",
        "**Class Attribute**: A class attribute is a Python Variable that belongs to a class rather than a particular object. This is shared between all other objects of the same class and is defined outside the constructor function __init__(self,…), of the class.\n",
        "\n",
        "---\n",
        "\n",
        "\n",
        "\n",
        "**Differences Between Class and Instance Attributes** ,The difference is that class attributes are shared by all instances. When you change the value of a class attribute, it will affect all instances that share the same exact value. The attribute of an instance on the other hand is unique to that instance.\n",
        "\n",
        "\n",
        "---\n",
        "\n",
        "<!--\n",
        "What is __dict__?\n",
        "\n",
        "A __dict__ is a dictionary or mapping object used to store an object’s attributes.\n",
        "\n",
        "But how does Python deal with the object and class attributes using the __dict__? Well, each instance is stored in a dictionary. -->"
      ]
    },
    {
      "cell_type": "markdown",
      "metadata": {
        "id": "RIQF5mc6Xzon"
      },
      "source": [
        "##**y = class labels (species)**"
      ]
    },
    {
      "cell_type": "markdown",
      "metadata": {
        "id": "A-4rVODW9Jun"
      },
      "source": [
        "\n",
        "<center><img src = \"https://github.com/joddiazra2793/IrisKNNClassifier/blob/main/IrisDataset.jpg?raw=true\" alt = \"PCA\" width = \"70%\">  </img></center>\n",
        "\n"
      ]
    },
    {
      "cell_type": "code",
      "metadata": {
        "id": "LIGYzNpt7EOc",
        "colab": {
          "base_uri": "https://localhost:8080/"
        },
        "outputId": "2228528d-658f-41a5-908f-8816a23129ee"
      },
      "source": [
        "!git clone https://github.com/joddiazra2793/IrisKNNClassifier.git"
      ],
      "execution_count": 431,
      "outputs": [
        {
          "output_type": "stream",
          "text": [
            "fatal: destination path 'IrisKNNClassifier' already exists and is not an empty directory.\n"
          ],
          "name": "stdout"
        }
      ]
    },
    {
      "cell_type": "markdown",
      "metadata": {
        "id": "VoV867VOXJPz"
      },
      "source": [
        "\n",
        "\n",
        "\n",
        "##**2.   Manejo de datos**\n",
        "##**Creación de los sets**\n",
        "\n"
      ]
    },
    {
      "cell_type": "code",
      "metadata": {
        "colab": {
          "base_uri": "https://localhost:8080/",
          "height": 204
        },
        "id": "FJdTpwm1XXlQ",
        "outputId": "dfe50af7-27f7-4eda-cbe5-66755d4bfe03"
      },
      "source": [
        "#Column-based Data Processing via Disctionaries and \".map\"\n",
        "d = {\"setosa\": 0,\n",
        "     \"versicolor\": 1,\n",
        "     \"virginica\": 2}\n",
        "\n",
        "dfI[\"species\"] = dfI[\"species\"].map(d)\n",
        "dfI.head()"
      ],
      "execution_count": 432,
      "outputs": [
        {
          "output_type": "execute_result",
          "data": {
            "text/html": [
              "<div>\n",
              "<style scoped>\n",
              "    .dataframe tbody tr th:only-of-type {\n",
              "        vertical-align: middle;\n",
              "    }\n",
              "\n",
              "    .dataframe tbody tr th {\n",
              "        vertical-align: top;\n",
              "    }\n",
              "\n",
              "    .dataframe thead th {\n",
              "        text-align: right;\n",
              "    }\n",
              "</style>\n",
              "<table border=\"1\" class=\"dataframe\">\n",
              "  <thead>\n",
              "    <tr style=\"text-align: right;\">\n",
              "      <th></th>\n",
              "      <th>sepal_length</th>\n",
              "      <th>sepal_width</th>\n",
              "      <th>petal_length</th>\n",
              "      <th>petal_width</th>\n",
              "      <th>species</th>\n",
              "    </tr>\n",
              "  </thead>\n",
              "  <tbody>\n",
              "    <tr>\n",
              "      <th>0</th>\n",
              "      <td>5.1</td>\n",
              "      <td>3.5</td>\n",
              "      <td>1.4</td>\n",
              "      <td>0.2</td>\n",
              "      <td>0</td>\n",
              "    </tr>\n",
              "    <tr>\n",
              "      <th>1</th>\n",
              "      <td>4.9</td>\n",
              "      <td>3.0</td>\n",
              "      <td>1.4</td>\n",
              "      <td>0.2</td>\n",
              "      <td>0</td>\n",
              "    </tr>\n",
              "    <tr>\n",
              "      <th>2</th>\n",
              "      <td>4.7</td>\n",
              "      <td>3.2</td>\n",
              "      <td>1.3</td>\n",
              "      <td>0.2</td>\n",
              "      <td>0</td>\n",
              "    </tr>\n",
              "    <tr>\n",
              "      <th>3</th>\n",
              "      <td>4.6</td>\n",
              "      <td>3.1</td>\n",
              "      <td>1.5</td>\n",
              "      <td>0.2</td>\n",
              "      <td>0</td>\n",
              "    </tr>\n",
              "    <tr>\n",
              "      <th>4</th>\n",
              "      <td>5.0</td>\n",
              "      <td>3.6</td>\n",
              "      <td>1.4</td>\n",
              "      <td>0.2</td>\n",
              "      <td>0</td>\n",
              "    </tr>\n",
              "  </tbody>\n",
              "</table>\n",
              "</div>"
            ],
            "text/plain": [
              "   sepal_length  sepal_width  petal_length  petal_width  species\n",
              "0           5.1          3.5           1.4          0.2        0\n",
              "1           4.9          3.0           1.4          0.2        0\n",
              "2           4.7          3.2           1.3          0.2        0\n",
              "3           4.6          3.1           1.5          0.2        0\n",
              "4           5.0          3.6           1.4          0.2        0"
            ]
          },
          "metadata": {
            "tags": []
          },
          "execution_count": 432
        }
      ]
    },
    {
      "cell_type": "markdown",
      "metadata": {
        "id": "hClXXxVIerXq"
      },
      "source": [
        "##**Arreglos de los labels y features o atributos**"
      ]
    },
    {
      "cell_type": "code",
      "metadata": {
        "id": "w1uZeCdIctow"
      },
      "source": [
        "y = dfI[\"species\"].values #Class label array or Laberl  vector\n",
        "X = dfI.iloc[:, 0:4].values #Features (Design Matrix), [all rows, col 1 to 4 ]\n",
        "#X[:5]"
      ],
      "execution_count": 433,
      "outputs": []
    },
    {
      "cell_type": "markdown",
      "metadata": {
        "id": "qZRDqiPSfDyA"
      },
      "source": [
        "##**Partición o splitting del DataSet en los SubSets de Train, Validation and Test**"
      ]
    },
    {
      "cell_type": "code",
      "metadata": {
        "id": "OWqwxdr2fQq0"
      },
      "source": [
        "#index array\n",
        "indices = np.arange(X.shape[0]) #Length of X (#rows = # of training examples)\n",
        "#reproducible suffled index array\n",
        "rng = np.random.RandomState(123)\n",
        "permuted_indices = rng.permutation(indices)\n",
        "#we can use the shuffled index array to select the training set on validation set and tested\n",
        "train_size, valid_size = int(0.65*X.shape[0]), int(0.15*X.shape[0])\n",
        "test_size = X.shape[0] - (train_size + valid_size)\n",
        "#print(train_size, valid_size, test_size)"
      ],
      "execution_count": 434,
      "outputs": []
    },
    {
      "cell_type": "code",
      "metadata": {
        "id": "oiDHJhcFhrzK"
      },
      "source": [
        "train_ind = permuted_indices[:train_size]\n",
        "valid_ind = permuted_indices[train_size:(train_size + valid_size)]\n",
        "test_ind = permuted_indices[(train_size + valid_size):]"
      ],
      "execution_count": 435,
      "outputs": []
    },
    {
      "cell_type": "code",
      "metadata": {
        "id": "2Bc2JAz1iPVo"
      },
      "source": [
        "X_train, y_train = X[train_ind], y[train_ind] #65% data\n",
        "X_valid, y_valid = X[valid_ind], y[valid_ind] #15% data\n",
        "X_test, y_test = X[test_ind], y[test_ind] #20% data"
      ],
      "execution_count": 436,
      "outputs": []
    },
    {
      "cell_type": "markdown",
      "metadata": {
        "id": "hGDimjkTD8DX"
      },
      "source": [
        "##**3.   Aprendizaje de máquina supervisado**\n",
        "##**Clasificador probabilístico KNN, aproximación No-paramétrica**\n",
        "\n",
        "\n",
        "\n"
      ]
    },
    {
      "cell_type": "markdown",
      "metadata": {
        "id": "ZdMCtHOXE_4x"
      },
      "source": [
        "**Diagrama de clases de algoritmo KNN pronto...**"
      ]
    },
    {
      "cell_type": "code",
      "metadata": {
        "id": "cg_kbZm8SFE2",
        "colab": {
          "base_uri": "https://localhost:8080/"
        },
        "outputId": "5ab59f37-8e37-417a-fb5e-af88f7e295d9"
      },
      "source": [
        "class KNNClassifier(object):\n",
        "    \n",
        "    def __init__(self, k, d_fn=None):\n",
        "          \"This is the 'init' or 'constructor' method\"\n",
        "          #This is the constructor, which will be executed when we create a new object\n",
        "          #2 hyperparameters: k-nearest neighbors and d_fn: distance function (default: Euclidean distance) \n",
        "          self.k = k\n",
        "          if d_fn is None:            \n",
        "            self.d_fn = self._euclidean_d\n",
        "\n",
        "    def _euclidean_d(self, xvalid, xtrain):\n",
        "          #\"Semi\" private method, just internally used\n",
        "          #xvalid is a instance from the Valid dataset\n",
        "          #xtrain is a instance from the train dataset\n",
        "          \n",
        "          d = np.linalg.norm(np.array(xvalid) - np.array(xtrain)) \n",
        "          return d\n",
        "      \n",
        "    def _find_nearest(self, d):\n",
        "          #argsort indices from the euclidean distances vector d\n",
        "          nnb = np.argsort(d)[:self.k] #calculates the first 5 neighbors indices\n",
        "          return nnb\n",
        "\n",
        "    def fit(self, X, y):\n",
        "          #The same training method\n",
        "          self.dataset_ = X.copy()\n",
        "          self.labels_ = y.copy()                    \n",
        "    \n",
        "    def predict(self, X):\n",
        "          #X is the Valid dataset\n",
        "          if len(X.shape) == 1:\n",
        "            X = [X]\n",
        "          y = []\n",
        "          \n",
        "          for xb in X:\n",
        "            #print(xb)\n",
        "            distances = [self.d_fn(xb, xa) for xa in self.dataset_]            \n",
        "            nearest_neighbors = self._find_nearest(distances)\n",
        "            #print(\"nnb\", nearest_neighbors)\n",
        "            labels = [self.labels_[nb] for nb in nearest_neighbors]\n",
        "            y.append(stats.mode(labels)[0][0])\n",
        "          return y\n",
        "          \n",
        "\n",
        "knn_model = KNNClassifier(k=5)\n",
        "knn_model.fit(X_train, y_train)\n",
        "print(knn_model.predict(X_valid))\n"
      ],
      "execution_count": 437,
      "outputs": [
        {
          "output_type": "stream",
          "text": [
            "[0, 1, 2, 1, 1, 1, 0, 0, 1, 2, 0, 0, 1, 1, 1, 2, 1, 1, 1, 2, 0, 0]\n"
          ],
          "name": "stdout"
        }
      ]
    }
  ]
}